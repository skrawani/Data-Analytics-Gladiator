{
 "cells": [
  {
   "cell_type": "code",
   "execution_count": 8,
   "metadata": {},
   "outputs": [],
   "source": [
    "#--------------------First Phase---------------------\n",
    "\n",
    "#importing Libraries\n",
    "import numpy as np\n",
    "import matplotlib.pyplot as plt\n",
    "import pandas as pd\n",
    "%matplotlib qt\n",
    "\n",
    "# Importing the dataset\n",
    "dataset = pd.read_csv('iris.csv')\n",
    "\n",
    "X = dataset.iloc[:, 0:4].values\n",
    "y = dataset.iloc[:, 4].values\n",
    "y_mark = y\n",
    "#PCA\n",
    "from sklearn.decomposition import PCA as sklearnPCA\n",
    "sklearn_pca = sklearnPCA(n_components=3)\n",
    "X_sklearn = sklearn_pca.fit_transform(X)"
   ]
  },
  {
   "cell_type": "code",
   "execution_count": 142,
   "metadata": {},
   "outputs": [],
   "source": [
    "#--------------------Second Phase---------------------\n",
    "\n",
    "# Encoding the Dependent Variable\n",
    "from sklearn.preprocessing import LabelEncoder\n",
    "labelencoder_y = LabelEncoder()\n",
    "y = labelencoder_y.fit_transform(y)\n",
    "\n",
    "#plotting the dataset\n",
    "from mpl_toolkits.mplot3d import Axes3D\n",
    "fig = plt.figure()\n",
    "ax = fig.add_subplot(111, projection='3d')\n",
    "k = X_sklearn[:,0]\n",
    "l = X_sklearn[:,1]\n",
    "m = X_sklearn[:,2]\n",
    "\n",
    "labl = { 0 : 'Setosa', 1 : 'Versicolor', 2 : 'Virginica'}\n",
    "cdict = {0: 'red', 1: 'blue', 2: 'green'}\n",
    "\n",
    "for g in np.unique(y):\n",
    "    ix = np.where(y == g)\n",
    "    ax.scatter(k[ix], l[ix], m[ix], c = cdict[g], marker = 'o', label = labl[g])\n",
    "\n",
    "ax.set_xlabel('First component')\n",
    "ax.set_ylabel('Second component')\n",
    "ax.set_zlabel('Third Component')\n",
    "\n",
    "ax.legend()\n",
    "plt.show()\n"
   ]
  },
  {
   "cell_type": "code",
   "execution_count": 154,
   "metadata": {},
   "outputs": [
    {
     "name": "stdout",
     "output_type": "stream",
     "text": [
      "Accuracy for k = 1 : 95.32\n",
      "Accuracy for k = 3 : 95.36\n",
      "Accuracy for k = 5 : 96.08\n"
     ]
    },
    {
     "data": {
      "text/plain": [
       "'#Displaying the result\\nprint(\"index\\tObserved\\tfor k = 1\\tfor k = 3\\tfor k = 5\")\\nfor i in range(50):\\n    print(i,\\'\\t\\',y_test[i],\\'\\t\\t\\', y_pred1[i],\\'\\t\\t\\' ,y_pred3[i],\\'\\t\\t\\', y_pred5[i])'"
      ]
     },
     "execution_count": 154,
     "metadata": {},
     "output_type": "execute_result"
    }
   ],
   "source": [
    "#--------------------Third Phase---------------------\n",
    "\n",
    "# Euclidean distance\n",
    "def distance(instance1, instance2):\n",
    "    # just in case, if the instances are lists or tuples:\n",
    "    instance1 = np.array(instance1) \n",
    "    instance2 = np.array(instance2)\n",
    "    \n",
    "    return np.linalg.norm(instance1 - instance2)\n",
    "\n",
    "\n",
    "# Get Neighbours\n",
    "def get_neighbors(training_set, \n",
    "                  labels, \n",
    "                  test_instance, \n",
    "                  k, \n",
    "                  distance=distance):\n",
    "    distances = []\n",
    "    for index in range(len(training_set)):\n",
    "        dist = distance(test_instance, training_set[index])\n",
    "        distances.append((training_set[index], dist, labels[index]))\n",
    "    distances.sort(key=lambda x: x[1])\n",
    "    neighbors = distances[:k]\n",
    "    return neighbors  \n",
    "\n",
    "# Counter\n",
    "from collections import Counter\n",
    "def vote(neighbors):\n",
    "    class_counter = Counter()\n",
    "    for neighbor in neighbors:\n",
    "        class_counter[neighbor[2]] += 1\n",
    "    return class_counter.most_common(1)[0][0]\n",
    "\n",
    "accu1 = 0\n",
    "accu3 = 0\n",
    "accu5 = 0\n",
    "\n",
    "# Splitting the dataset into the Training set and Test set\n",
    "import random\n",
    "from sklearn.model_selection import train_test_split\n",
    "for acc in range(50):\n",
    "    X_train, X_test, y_train, y_test = train_test_split(X_sklearn, y, test_size = 1/3, random_state = random.randrange(1, 100, 2))\n",
    "    #Prediction for k = 1\n",
    "    y_pred1 = []\n",
    "    for i in range(50):\n",
    "        neighbors = get_neighbors(X_train, y_train, X_test[i], 1, distance=distance)\n",
    "        y_pred1.append(vote(neighbors))\n",
    "    y_pred1 = np.array(y_pred1)\n",
    "\n",
    "    #Prediction for k = 3\n",
    "    y_pred3 = []\n",
    "    for i in range(50):\n",
    "        neighbors = get_neighbors(X_train, y_train, X_test[i], 3, distance=distance)\n",
    "        y_pred3.append(vote(neighbors))\n",
    "    y_pred3 = np.array(y_pred3)\n",
    "    \n",
    "    #Prediction for k = 5\n",
    "    y_pred5 = []\n",
    "    for i in range(50):\n",
    "        neighbors = get_neighbors(X_train, y_train, X_test[i], 5, distance=distance)\n",
    "        y_pred5.append(vote(neighbors))\n",
    "    y_pred5 = np.array(y_pred5)\n",
    "    accu1 += accuracy_score(y_test, y_pred1)\n",
    "    accu3 += accuracy_score(y_test, y_pred3)\n",
    "    accu5 += accuracy_score(y_test, y_pred5)\n",
    "\n",
    "#Acuuracy Comparison for k = 1, k = 2 and k = 3\n",
    "from sklearn.metrics import accuracy_score\n",
    "print('Accuracy for k = 1 :', round(accu1/50 * 100,2))\n",
    "print('Accuracy for k = 3 :', round(accu3/50 * 100,2))\n",
    "print('Accuracy for k = 5 :', round(accu5/50 * 100,2))\n",
    "\n",
    "'''#Displaying the result\n",
    "print(\"index\\tObserved\\tfor k = 1\\tfor k = 3\\tfor k = 5\")\n",
    "for i in range(50):\n",
    "    print(i,'\\t',y_test[i],'\\t\\t', y_pred1[i],'\\t\\t' ,y_pred3[i],'\\t\\t', y_pred5[i])'''"
   ]
  },
  {
   "cell_type": "code",
   "execution_count": null,
   "metadata": {},
   "outputs": [],
   "source": []
  }
 ],
 "metadata": {
  "kernelspec": {
   "display_name": "Python 3",
   "language": "python",
   "name": "python3"
  },
  "language_info": {
   "codemirror_mode": {
    "name": "ipython",
    "version": 3
   },
   "file_extension": ".py",
   "mimetype": "text/x-python",
   "name": "python",
   "nbconvert_exporter": "python",
   "pygments_lexer": "ipython3",
   "version": "3.7.1"
  }
 },
 "nbformat": 4,
 "nbformat_minor": 2
}
